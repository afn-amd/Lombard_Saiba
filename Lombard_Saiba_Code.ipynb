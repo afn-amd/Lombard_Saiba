{
 "cells": [
  {
   "cell_type": "code",
   "execution_count": 1,
   "id": "49540bed-f68e-427f-980b-39bd67eff3ae",
   "metadata": {},
   "outputs": [],
   "source": [
    "import pandas as pd\n",
    "import numpy as np"
   ]
  },
  {
   "cell_type": "code",
   "execution_count": 2,
   "id": "66fa4a1b-7efe-466f-8115-d7c2b42ea426",
   "metadata": {},
   "outputs": [],
   "source": [
    "data1 = pd.read_excel(\"Lombard_Regular & TP_Brokerage_Apr'24(Statement).xlsx\", sheet_name=\"RAW STATEMENT\")"
   ]
  },
  {
   "cell_type": "code",
   "execution_count": 3,
   "id": "ee59fdda-e88c-4433-b6ef-9d78e41f0726",
   "metadata": {},
   "outputs": [],
   "source": [
    "data2 = pd.read_excel(\"LOMBARD_REPORT_APRIL_24-25 TILL 07.06.2024(Saiba Dump).xls\", engine='xlrd')"
   ]
  },
  {
   "cell_type": "raw",
   "id": "8a8b34ec-e0d4-48ca-a7ac-6dc0f8739649",
   "metadata": {},
   "source": [
    "data1.shape -> (316, 51)"
   ]
  },
  {
   "cell_type": "raw",
   "id": "6b84ced4-ae9d-4ff1-8254-46b7de445adf",
   "metadata": {},
   "source": [
    "data2.shape -> (432, 119)"
   ]
  },
  {
   "cell_type": "code",
   "execution_count": 4,
   "id": "57fcf0ae-060e-4c0a-80fd-19ac233f98c1",
   "metadata": {},
   "outputs": [
    {
     "data": {
      "text/plain": [
       "Index(['Unnamed: 0', 'AGENT_CATEGORY_NAME', 'AGENT_LICENSE_CODE',\n",
       "       'INTERMEDIARY_CODE', 'INTERMEDIARY_NAME', 'LOCATION_NAME',\n",
       "       'CUSTOMER_ID', 'INSURED_CUSTOMER_NAME', 'PRODUCT_CODE', 'PRODUCT_NAME',\n",
       "       'POLICY_NUMBER', 'POL_NUM_TXT', 'POL_PRI_VVERTICAL_DESC',\n",
       "       'POL_PRI_SSUB_VERTICAL_DESC', 'DEAL_CODE', 'POL_RM_CODE', 'POL_RM_NAME',\n",
       "       'APPLICABLE_PREMIUM_AMOUNT', 'PREMIUM_FOR_PAYOUTS',\n",
       "       'POL_COMMISSION_PERCENTAGE', 'COMMISSION_RATE_USED',\n",
       "       'ACTUAL_COMPR_OD_COMM', 'ACTUAL_COMPR_TP_COMM', 'ACTUAL_COMMISSION',\n",
       "       'POLICY_START_DATE', 'POLICY_END_DATE', 'ENDORSEMENT_NUMBER',\n",
       "       'ENDORSEMENT_TYPE', 'LEADER_FOLLOWER', 'CHILD_INTERMEDIARY_ID',\n",
       "       'CHILD_INTEREDIARY_NAME', 'COMMISSIONABLE_SOURCE', 'PAYMENT_LOCATION',\n",
       "       'BRANCH_NAME', 'BASIC_PREMIUM_AMOUNT', 'EARTHQUAKE_PREMIUM_AMOUNT',\n",
       "       'MOTOR_OD_PREMIUM_AMOUNT', 'MOTOR_TP_PREMIUM_AMOUNT',\n",
       "       'TERRORISM_PREMIUM_AMOUNT', 'WAR_SRCC_PREMIUM_AMT',\n",
       "       'PREMIUM_AMOUNT_USED', 'BUSINESS_TYPE', 'IRDA_REPORTING_DATE', 'GWP',\n",
       "       'FROM_LOCATION', 'TO_LOCATION', 'POL_VEHICLE_AGE', 'CUST_TYPE',\n",
       "       'TRANSACTION_STATUS', 'YEAR_FLAG', 'PAYOUT_CYCLE'],\n",
       "      dtype='object')"
      ]
     },
     "execution_count": 4,
     "metadata": {},
     "output_type": "execute_result"
    }
   ],
   "source": [
    "data1.columns"
   ]
  },
  {
   "cell_type": "code",
   "execution_count": 5,
   "id": "e695d73c-e961-40d9-9cd1-abe850bb3573",
   "metadata": {},
   "outputs": [
    {
     "name": "stdout",
     "output_type": "stream",
     "text": [
      "PolicyNo\n",
      "EndoNo\n",
      "Combine\n",
      "C.No.\n",
      "Inst No.\n",
      "Bus.Date\n",
      "InsertDate\n",
      "RegionName\n",
      "RegionCode\n",
      "BrokerBranch\n",
      "Br. Code\n",
      "RMName\n",
      "RMCode\n",
      "RMEmpID\n",
      "RM Department\n",
      "CSCName\n",
      "CSCCode\n",
      "CSCEmpID\n",
      "CSC Department\n",
      "POS/Ref/MISP Name\n",
      "POS/Ref/MISP  Code\n",
      "Cust.Vertical\n",
      "CustName\n",
      "InsuredName\n",
      "Insurer\n",
      "Insurer Branch\n",
      "Insurer Branch Code\n",
      "IRDADepartment\n",
      "Policy Type\n",
      "Mode1\n",
      "ChequeNo.\n",
      "Chq. Amt\n",
      "Dated\n",
      "Bank\n",
      "Make\n",
      "Mode2\n",
      "ChqNo\n",
      "ChqAmt\n",
      "Dated.1\n",
      "Bank.1\n",
      "Policy_StartDate\n",
      "EndoDate\n",
      "Policy/Endo\n",
      "Issue Date\n",
      "Policy/Endo.\n",
      "Rcvd.Date\n",
      "Exp. Date\n",
      "Share%\n",
      "CovernoteNo\n",
      "BizType\n",
      "Remark\n",
      "Remarks\n",
      "SumInsured\n",
      "OD Premium\n",
      "PBST\n",
      "ServiceTax\n",
      "GrossPremium\n",
      "ODD%\n",
      "Brok Prem.\n",
      "TPPremium\n",
      "Brok.%\n",
      "TPBrok%\n",
      "Brokerage\n",
      "TPBrokAmt\n",
      "TotalBrok.\n",
      "Reward Rate On\n",
      "Rew%\n",
      "RewAmt.\n",
      "TPRewRate\n",
      "TpRewAmnt\n",
      "TotalRewAmt\n",
      "Total(Brok+Rew+TP)\n",
      "GST %\n",
      "Brok.GST Amt\n",
      "Rew.GST %\n",
      "Rew.GSTAmt\n",
      "Total GST Amt\n",
      "Brok. Bill Amount\n",
      "Brok. Recv. Amount\n",
      "TotalBrok. Due\n",
      "Brok.Bill Id\n",
      "Brok GST Amount\n",
      "BilledStatus\n",
      "Billed Remarks\n",
      "Brok Receipt Id\n",
      "Brok.GST Rcvd\n",
      "TDS\n",
      "Reco Date\n",
      "Com.Remarks\n",
      "Brok.Status\n",
      "Reward Bill Id\n",
      "Reward Bill Amount\n",
      "Reward GST Amount\n",
      "Rew.Billed Status\n",
      "Rew.Billing Remarks\n",
      "Reward Receipt Id\n",
      "Reward Recv. Amount\n",
      "Reward GST Recv. Amount\n",
      "Reward TDS\n",
      "RewRecieptDate\n",
      "RewCommissionRemarks\n",
      "Rew.Status\n",
      "Total Billed (Brok+Rew)\n",
      "Total UnBilled (Brok+Rew)\n",
      "RewardDue\n",
      "Total Due\n",
      "Brok.GST Due\n",
      "Rew.GST Due\n",
      "BrokPending Vs Bill\n",
      "GSTPending Vs Bill\n",
      "Brok.DueTat\n",
      "Rew.DueTat\n",
      "PolicyStatus\n",
      "ModelVariant\n",
      "GCV/PCV/Misc.\n",
      "Vehicle_no\n",
      "TANNo.\n",
      "Entry User\n",
      "Brokerage/Fee Remarks\n",
      "CampaignName\n",
      "Remarks.1\n"
     ]
    }
   ],
   "source": [
    "cols = data2.columns\n",
    "for col in cols:\n",
    "    print(col)"
   ]
  },
  {
   "cell_type": "code",
   "execution_count": 6,
   "id": "41ff8076-ac0b-44ff-b7e4-cf5264022a69",
   "metadata": {},
   "outputs": [],
   "source": [
    "#u1 = data1[\"INSURED_CUSTOMER_NAME\"].unique()\n",
    "#len(sorted(u1))"
   ]
  },
  {
   "cell_type": "code",
   "execution_count": 7,
   "id": "4b3ed683-3b90-4da0-b872-8ac60329a9fe",
   "metadata": {},
   "outputs": [],
   "source": [
    "#u2 = data2[\"CustName\"].unique()\n",
    "#len(u2)"
   ]
  },
  {
   "cell_type": "raw",
   "id": "aa44da7a-9907-493e-a474-a41adeb253ef",
   "metadata": {},
   "source": [
    "Customers' Names are different in both. \n",
    "Unique Value Counts:\n",
    "173 in Lambord Statement\n",
    "211 in Saiba Dump"
   ]
  },
  {
   "cell_type": "code",
   "execution_count": 8,
   "id": "6aaa5576-be78-4abb-9587-1ef0846f2e00",
   "metadata": {},
   "outputs": [],
   "source": [
    "#u1 = data1[\"POL_NUM_TXT\"].unique()\n",
    "#len(sorted(u1))"
   ]
  },
  {
   "cell_type": "code",
   "execution_count": 9,
   "id": "baf7c70a-a8fa-4731-8a24-1dc2109ba52d",
   "metadata": {},
   "outputs": [],
   "source": [
    "#u2 = data2[\"PolicyNo\"].unique()\n",
    "#len(u2)"
   ]
  },
  {
   "cell_type": "raw",
   "id": "89e516ab-a2de-4de4-b77a-a3b743511f10",
   "metadata": {},
   "source": [
    "93 Policy Numbers are the same. From Lombard Statement \"POL_NUM_TXT\" is equivalent to \"PolicyNo\" in Saiba Dump.\n",
    "Unique Value Counts:\n",
    "293 in Lambord Statement\n",
    "168 in Saiba Dump"
   ]
  },
  {
   "cell_type": "code",
   "execution_count": 10,
   "id": "74d4ab67-20ff-4705-92a4-cd0c7ddeae69",
   "metadata": {},
   "outputs": [],
   "source": [
    "#u1 = data1[\"PRODUCT_NAME\"].unique()\n",
    "#len(sorted(u1))"
   ]
  },
  {
   "cell_type": "code",
   "execution_count": 11,
   "id": "5a895349-a357-415a-8b7d-0d11d2ba3a25",
   "metadata": {},
   "outputs": [],
   "source": [
    "#u2 = data2[\"Policy Type\"].unique()\n",
    "#len(u2)"
   ]
  },
  {
   "cell_type": "raw",
   "id": "e107de14-f20a-4553-abab-307033805967",
   "metadata": {},
   "source": [
    "\"PRODUCT_NAME\" in the Lombard sheet is equivalent to \"Policy Type\" in Saiba Dump. Only 1 data matches completely in both \"GROUP PERSONAL ACCIDENT\".\n",
    "Unique Value Counts:\n",
    "27 in Lambord Statement\n",
    "45 in Saiba Dump"
   ]
  },
  {
   "cell_type": "code",
   "execution_count": null,
   "id": "0935994e-69fa-4375-ad10-290283ecd799",
   "metadata": {},
   "outputs": [],
   "source": []
  }
 ],
 "metadata": {
  "kernelspec": {
   "display_name": "Python 3 (ipykernel)",
   "language": "python",
   "name": "python3"
  },
  "language_info": {
   "codemirror_mode": {
    "name": "ipython",
    "version": 3
   },
   "file_extension": ".py",
   "mimetype": "text/x-python",
   "name": "python",
   "nbconvert_exporter": "python",
   "pygments_lexer": "ipython3",
   "version": "3.11.5"
  }
 },
 "nbformat": 4,
 "nbformat_minor": 5
}
