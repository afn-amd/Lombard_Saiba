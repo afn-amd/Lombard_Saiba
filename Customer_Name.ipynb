{
 "cells": [
  {
   "cell_type": "code",
   "execution_count": 1,
   "id": "18161143-1989-450f-916a-04cba5562905",
   "metadata": {},
   "outputs": [],
   "source": [
    "import pandas as pd\n",
    "import numpy as np\n",
    "import re\n",
    "from fuzzywuzzy import fuzz\n",
    "from fuzzywuzzy import process\n",
    "from collections import defaultdict"
   ]
  },
  {
   "cell_type": "code",
   "execution_count": 2,
   "id": "8b8a1273-38b1-412c-957f-d04fcd6729d3",
   "metadata": {},
   "outputs": [],
   "source": [
    "data1 = pd.read_excel(\"Unmatched_Data.xlsx\", sheet_name=\"Saiba_Dump\")\n",
    "data2 = pd.read_excel(\"Unmatched_Data.xlsx\", sheet_name='Lombard_Statement')"
   ]
  },
  {
   "cell_type": "code",
   "execution_count": 3,
   "id": "7899d6fe-9904-471c-b68f-9d7570d7efc0",
   "metadata": {},
   "outputs": [],
   "source": [
    "# Preprocess name function\n",
    "def preprocess_name(name):\n",
    "    if pd.isna(name):\n",
    "        return \"\"\n",
    "    name = str(name)\n",
    "    # Define a list of words to omit\n",
    "    words_to_omit = [\n",
    "        'industry', 'industries', 'corp', 'corporation', 'inc', 'incorporated', 'foundation', \n",
    "        'company', 'co', 'limited', 'ltd', 'pvt', 'llc', 'llp', 'and', 'pvtltd', '&', 'm/s', 'ms'\n",
    "    ]\n",
    "    # Remove common titles and suffixes, and unwanted characters\n",
    "    name = re.sub(r'\\b(Mr|Ms|Ltd|LLP|Pvt|Private|Limited|LLC|LTD|Llp|ltd|lp|PLLP|Pllp|P.L.C.|ms|m/s|pvtltd)\\b', '', name, flags=re.IGNORECASE)\n",
    "    # Normalize \"and\", \"AND\", \"And\", \"&\" to \"and\"\n",
    "    name = re.sub(r'\\b(and|AND|And|&)\\b', 'and', name, flags=re.IGNORECASE)\n",
    "    # Remove dots (.) and commas (,)\n",
    "    name = re.sub(r'[.,]', '', name)\n",
    "    # Remove words to omit\n",
    "    for word in words_to_omit:\n",
    "        name = re.sub(r'\\b' + word + r'\\b', '', name, flags=re.IGNORECASE)\n",
    "    # Remove spaces and make lowercase\n",
    "    name = re.sub(r'\\s+', '', name).lower()\n",
    "    return name\n",
    "\n",
    "# Compute similarity function\n",
    "def compute_similarity(data1, data2, threshold=71):\n",
    "    names1 = pd.Series(data1['CustName'].unique()).astype(str).apply(preprocess_name)\n",
    "    names2 = pd.Series(data2['INSURED_CUSTOMER_NAME'].unique()).astype(str).apply(preprocess_name)\n",
    "    results = {}\n",
    "    index_dict_1 = defaultdict(list)\n",
    "    index_dict_2 = defaultdict(list)\n",
    "    \n",
    "    for name1 in names1:\n",
    "        for name2 in names2:\n",
    "            similarity = fuzz.ratio(name1, name2)\n",
    "            if similarity >= threshold:\n",
    "                if similarity not in results:\n",
    "                    results[similarity] = []\n",
    "                results[similarity].append((name1, name2))\n",
    "                index_dict_1[name1].extend(data1[data1['CustName'].apply(preprocess_name) == name1]['Index'].tolist())\n",
    "                index_dict_2[name2].extend(data2[data2['INSURED_CUSTOMER_NAME'].apply(preprocess_name) == name2]['Index'].tolist())\n",
    "    \n",
    "    return results, index_dict_1, index_dict_2"
   ]
  },
  {
   "cell_type": "code",
   "execution_count": 4,
   "id": "6f14c9fc-7aef-4ffb-8e0d-6f43b50e5647",
   "metadata": {},
   "outputs": [],
   "source": [
    "# Compute similarity with a threshold of 71%\n",
    "similarity_dict, index_dict_1, index_dict_2 = compute_similarity(data1, data2, threshold=71)\n",
    "\n",
    "# Sort the similarity_dict by keys in descending order\n",
    "sorted_similarity_dict = dict(sorted(similarity_dict.items(), key=lambda item: item[0], reverse=True))\n",
    "\n",
    "name_data1 = []\n",
    "name_data2 = []\n",
    "index_list_1 = []\n",
    "index_list_2 = []\n",
    "\n",
    "# Display results\n",
    "indexPairs = []\n",
    "for similarity, pairs in sorted_similarity_dict.items():\n",
    "    for pair in pairs:\n",
    "        for i in index_dict_1[pair[0]]:\n",
    "            for j in index_dict_2[pair[1]]:\n",
    "                result_dict = {}\n",
    "                result_dict[i] = j\n",
    "                if result_dict not in indexPairs:\n",
    "                    indexPairs.append(result_dict)\n",
    "        name_data1.append(pair[0])\n",
    "        name_data2.append(pair[1])\n",
    "        index_list_1.extend(index_dict_1[pair[0]])\n",
    "        index_list_2.extend(index_dict_2[pair[1]])"
   ]
  },
  {
   "cell_type": "code",
   "execution_count": 5,
   "id": "269e7cfd-076d-4ae9-8ac2-24e99ae89d08",
   "metadata": {},
   "outputs": [],
   "source": [
    "def sort_dicts_by_numeric_key(lst):\n",
    "    # Define a helper function to extract the numeric part after 'S'\n",
    "    def extract_numeric_key(d):\n",
    "        key = list(d.keys())[0]  # Get the key (e.g., 'S219')\n",
    "        return int(key[1:])      # Extract numeric part and convert to integer\n",
    "    \n",
    "    # Sort the list of dictionaries based on extracted numeric keys\n",
    "    sorted_list = sorted(lst, key=extract_numeric_key)\n",
    "    \n",
    "    return sorted_list"
   ]
  },
  {
   "cell_type": "code",
   "execution_count": 6,
   "id": "12a45e5a-414b-4622-af12-5152d24faece",
   "metadata": {},
   "outputs": [],
   "source": [
    "sorted_list = sort_dicts_by_numeric_key(indexPairs)\n",
    "#sorted_list"
   ]
  },
  {
   "cell_type": "code",
   "execution_count": 7,
   "id": "5f32ba95-0050-4a36-a388-0a26996e727a",
   "metadata": {},
   "outputs": [],
   "source": [
    "#filtered_data1 = data1[data1['Index'].isin(index_list_1)]\n",
    "#filtered_data2 = data2[data2['Index'].isin(index_list_2)]"
   ]
  },
  {
   "cell_type": "code",
   "execution_count": null,
   "id": "eaab1f4b-9509-46d9-870d-616dd8021fe7",
   "metadata": {},
   "outputs": [],
   "source": []
  }
 ],
 "metadata": {
  "kernelspec": {
   "display_name": "Python 3 (ipykernel)",
   "language": "python",
   "name": "python3"
  },
  "language_info": {
   "codemirror_mode": {
    "name": "ipython",
    "version": 3
   },
   "file_extension": ".py",
   "mimetype": "text/x-python",
   "name": "python",
   "nbconvert_exporter": "python",
   "pygments_lexer": "ipython3",
   "version": "3.11.5"
  }
 },
 "nbformat": 4,
 "nbformat_minor": 5
}
