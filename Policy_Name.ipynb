{
 "cells": [
  {
   "cell_type": "code",
   "execution_count": 1,
   "id": "f03697ec-79bb-45d4-802f-5802bbe7b38a",
   "metadata": {},
   "outputs": [],
   "source": [
    "import pandas as pd\n",
    "from sklearn.feature_extraction.text import TfidfVectorizer\n",
    "from sklearn.metrics.pairwise import cosine_similarity"
   ]
  },
  {
   "cell_type": "code",
   "execution_count": 2,
   "id": "a927721e-9bd9-426b-9978-476f28152bcd",
   "metadata": {},
   "outputs": [],
   "source": [
    "df1 = pd.read_excel(\"Unmatched_Data.xlsx\", sheet_name=\"Saiba_Dump\")\n",
    "df2 = pd.read_excel(\"Unmatched_Data.xlsx\", sheet_name='Lombard_Statement')"
   ]
  },
  {
   "cell_type": "code",
   "execution_count": 3,
   "id": "d40d0017-e68c-4308-8896-68775a836d52",
   "metadata": {},
   "outputs": [],
   "source": [
    "def preprocess_text(text):\n",
    "    if pd.isna(text):\n",
    "        return \"\"\n",
    "    return str(text).lower().strip()\n",
    "\n",
    "def find_similar_policies(df1, df2, col1, col2, threshold=61):\n",
    "    # Preprocess the policy names\n",
    "    df1[col1] = df1[col1].apply(preprocess_text)\n",
    "    df2[col2] = df2[col2].apply(preprocess_text)\n",
    "\n",
    "    # Get unique policy names\n",
    "    unique_policies_1 = df1[col1].unique()\n",
    "    unique_policies_2 = df2[col2].unique()\n",
    "\n",
    "    # Combine the policy names\n",
    "    combined_policies = pd.Series(list(unique_policies_1) + list(unique_policies_2))\n",
    "\n",
    "    # Vectorize the policy names using TF-IDF\n",
    "    vectorizer = TfidfVectorizer().fit(combined_policies)\n",
    "    tfidf_matrix = vectorizer.transform(combined_policies)\n",
    "\n",
    "    # Split the TF-IDF matrix back into the two datasets\n",
    "    tfidf_matrix_1 = tfidf_matrix[:len(unique_policies_1)]\n",
    "    tfidf_matrix_2 = tfidf_matrix[len(unique_policies_1):]\n",
    "\n",
    "    # Calculate cosine similarity\n",
    "    cosine_similarities = cosine_similarity(tfidf_matrix_1, tfidf_matrix_2)\n",
    "\n",
    "    # Find the best matches\n",
    "    results = []\n",
    "    for i in range(len(unique_policies_1)):\n",
    "        for j in range(len(unique_policies_2)):\n",
    "            similarity = cosine_similarities[i, j] * 100\n",
    "            if similarity >= threshold:\n",
    "                results.append((similarity, unique_policies_1[i], unique_policies_2[j]))\n",
    "\n",
    "    # Sort results by similarity percentage\n",
    "    results.sort(reverse=True, key=lambda x: x[0])\n",
    "\n",
    "    return results"
   ]
  },
  {
   "cell_type": "code",
   "execution_count": 4,
   "id": "f29938ed-f42f-46c8-9ad3-7848e66d9428",
   "metadata": {},
   "outputs": [
    {
     "name": "stdout",
     "output_type": "stream",
     "text": [
      "[100.00%] (industrial all risk.) - (industrial all risk)\n",
      "[100.00%] (group personal accident) - (group personal accident)\n",
      "[89.10%] (bharat sookshma udyam suraksha) - (icici bharat sookshma udyam suraksha)\n",
      "[89.10%] (bharat laghu udyam suraksha) - (icici bharat laghu udyam suraksha)\n",
      "[83.53%] (motor private car) - (private car)\n",
      "[82.45%] (bharat griha raksha) - (icici bharat griha raksha policy)\n",
      "[72.94%] (marine export(open)) - (marine export import insurance(open)policy)\n",
      "[70.73%] (marine import(open)) - (marine export import insurance(open)policy)\n",
      "[66.17%] (standard fire and special peril policy.) - (standard fire & special perils policy)\n",
      "[65.79%] (directors & officers liability) - (directors and officers policy)\n",
      "[63.68%] (erection all risk) - (erection all risks)\n"
     ]
    }
   ],
   "source": [
    "similar_policies = find_similar_policies(df1, df2, 'Policy Type', 'PRODUCT_NAME')\n",
    "\n",
    "for similarity, policy1, policy2 in similar_policies:\n",
    "    print(f'[{similarity:.2f}%] ({policy1}) - ({policy2})')"
   ]
  },
  {
   "cell_type": "code",
   "execution_count": null,
   "id": "7e509e9f-e811-40d0-9eb4-848cc8ef3375",
   "metadata": {},
   "outputs": [],
   "source": []
  }
 ],
 "metadata": {
  "kernelspec": {
   "display_name": "Python 3 (ipykernel)",
   "language": "python",
   "name": "python3"
  },
  "language_info": {
   "codemirror_mode": {
    "name": "ipython",
    "version": 3
   },
   "file_extension": ".py",
   "mimetype": "text/x-python",
   "name": "python",
   "nbconvert_exporter": "python",
   "pygments_lexer": "ipython3",
   "version": "3.11.5"
  }
 },
 "nbformat": 4,
 "nbformat_minor": 5
}
