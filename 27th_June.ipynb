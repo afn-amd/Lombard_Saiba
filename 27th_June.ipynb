{
 "cells": [
  {
   "cell_type": "code",
   "execution_count": 1,
   "id": "a6e465fe-cb92-43bb-b513-460e6a5ead13",
   "metadata": {},
   "outputs": [],
   "source": [
    "import pandas as pd"
   ]
  },
  {
   "cell_type": "code",
   "execution_count": 2,
   "id": "fa451321-6123-4c92-af2e-2a2f233ae9ab",
   "metadata": {},
   "outputs": [],
   "source": [
    "# Load the datasets\n",
    "broker_data = pd.read_excel('Saiba_Dump.xls', engine='xlrd')\n",
    "company_data = pd.read_excel('Lombard_Statement.xlsx', sheet_name='RAW STATEMENT')"
   ]
  },
  {
   "cell_type": "code",
   "execution_count": 3,
   "id": "305812a4-8457-45a1-8757-ad1cddf65052",
   "metadata": {},
   "outputs": [],
   "source": [
    "# Add an indexing column to each dataset\n",
    "broker_data['Index'] = ['S' + str(i + 1) for i in range(len(broker_data))]\n",
    "company_data['Index'] = ['L' + str(i + 1) for i in range(len(company_data))]"
   ]
  },
  {
   "cell_type": "code",
   "execution_count": 4,
   "id": "0ce2e80c-c3a0-4a05-89ce-da4949679fc0",
   "metadata": {},
   "outputs": [],
   "source": [
    "# Reorder columns to make 'Index' the first column\n",
    "broker_data = broker_data[['Index'] + [col for col in broker_data.columns if col != 'Index']]\n",
    "company_data = company_data[['Index'] + [col for col in company_data.columns if col != 'Index']]"
   ]
  },
  {
   "cell_type": "code",
   "execution_count": 5,
   "id": "aa5d13ad-a1f0-4b0d-b00c-fa0c8f3c1b1f",
   "metadata": {},
   "outputs": [],
   "source": [
    "# Save to a new Excel file with two sheets\n",
    "with pd.ExcelWriter('Combined_Data.xlsx') as writer:\n",
    "    broker_data.to_excel(writer, sheet_name='Saiba_Dump', index=False)\n",
    "    company_data.to_excel(writer, sheet_name='Lombard_Statement', index=False)\n",
    "\n",
    "data1 = pd.read_excel('Combined_Data.xlsx', sheet_name='Saiba_Dump')\n",
    "data2 = pd.read_excel('Combined_Data.xlsx', sheet_name='Lombard_Statement')"
   ]
  },
  {
   "cell_type": "code",
   "execution_count": 6,
   "id": "e6c328bf-5355-477e-a09d-18dbdae61830",
   "metadata": {},
   "outputs": [],
   "source": [
    "# Initialize dictionaries to store matching indices and attributes\n",
    "broker_matches = {index: [] for index in data1['Index']}\n",
    "company_matches = {index: [] for index in data2['Index']}\n",
    "broker_attributes = {index: [] for index in data1['Index']}\n",
    "company_attributes = {index: [] for index in data2['Index']}"
   ]
  },
  {
   "cell_type": "markdown",
   "id": "4a95edfc-c16b-48b8-bc58-15f174f652c0",
   "metadata": {},
   "source": [
    "#### Checking Policy Numbers"
   ]
  },
  {
   "cell_type": "code",
   "execution_count": 7,
   "id": "9caac9e3-1875-41c7-b3f7-74df33728b75",
   "metadata": {},
   "outputs": [],
   "source": [
    "# Find common values between 'PolicyNo' in data1 and 'POL_NUM_TXT' in data2\n",
    "common_values_policy = set(data1['PolicyNo']).intersection(set(data2['POL_NUM_TXT']))\n",
    "\n",
    "# Get the index pairs for the common values and store matching attribute\n",
    "for value in common_values_policy:\n",
    "    index1_list = data1[data1['PolicyNo'] == value]['Index'].values\n",
    "    index2_list = data2[data2['POL_NUM_TXT'] == value]['Index'].values\n",
    "    for i1 in index1_list:\n",
    "        for i2 in index2_list:\n",
    "            broker_matches[i1].append(i2)\n",
    "            company_matches[i2].append(i1)\n",
    "            broker_attributes[i1].append('POL_NUM_TXT')\n",
    "            company_attributes[i2].append('PolicyNo')"
   ]
  },
  {
   "cell_type": "markdown",
   "id": "e0b47f20-7ecc-42d8-9e92-c37b0441a76d",
   "metadata": {},
   "source": [
    "#### Checking Endoresement Numbers"
   ]
  },
  {
   "cell_type": "code",
   "execution_count": 8,
   "id": "286c1e2e-b8aa-45b8-8d2d-e7aa7f2ac2dd",
   "metadata": {},
   "outputs": [],
   "source": [
    "# Find common values between 'EndoNo' in data1 and 'POL_NUM_TXT' in data2\n",
    "common_values_endo = set(data1['EndoNo']).intersection(set(data2['POL_NUM_TXT']))\n",
    "\n",
    "# Get the index pairs for the common values and store the matching attribute\n",
    "for value in common_values_endo:\n",
    "    index1_list = data1[data1['EndoNo'] == value]['Index'].values\n",
    "    index2_list = data2[data2['POL_NUM_TXT'] == value]['Index'].values\n",
    "    for i1 in index1_list:\n",
    "        for i2 in index2_list:\n",
    "            broker_matches[i1].append(i2)\n",
    "            company_matches[i2].append(i1)\n",
    "            broker_attributes[i1].append('POL_NUM_TXT')\n",
    "            company_attributes[i2].append('EndoNo')"
   ]
  },
  {
   "cell_type": "code",
   "execution_count": 9,
   "id": "4024f6aa-4353-46d8-97c9-0f65a9346604",
   "metadata": {},
   "outputs": [],
   "source": [
    "# Convert lists to comma-separated strings\n",
    "data1['Matching_Index'] = data1['Index'].map(lambda x: ', '.join(broker_matches[x]))\n",
    "data2['Matching_Index'] = data2['Index'].map(lambda x: ', '.join(company_matches[x]))\n",
    "data1['Matching_Attribute'] = data1['Index'].map(lambda x: ', '.join(broker_attributes[x]))\n",
    "data2['Matching_Attribute'] = data2['Index'].map(lambda x: ', '.join(company_attributes[x]))\n",
    "\n",
    "# Reorder columns to make 'Matching_Index' and 'Matching_Attribute' the second and third columns\n",
    "data1 = data1[['Index', 'Matching_Index', 'Matching_Attribute'] + [col for col in data1.columns if col not in ['Index', 'Matching_Index', 'Matching_Attribute']]]\n",
    "data2 = data2[['Index', 'Matching_Index', 'Matching_Attribute'] + [col for col in data2.columns if col not in ['Index', 'Matching_Index', 'Matching_Attribute']]]"
   ]
  },
  {
   "cell_type": "code",
   "execution_count": 10,
   "id": "16447eae-2120-4a63-b985-445f7f7f0117",
   "metadata": {},
   "outputs": [],
   "source": [
    "# Create dataframes for matched and unmatched data\n",
    "matched_broker_data = data1[data1['PolicyNo'].isin(common_values_policy) | data1['EndoNo'].isin(common_values_endo)]\n",
    "unmatched_broker_data = data1[~data1['PolicyNo'].isin(common_values_policy) & ~data1['EndoNo'].isin(common_values_endo)]\n",
    "matched_company_data = data2[data2['POL_NUM_TXT'].isin(common_values_policy.union(common_values_endo))]\n",
    "unmatched_company_data = data2[~data2['POL_NUM_TXT'].isin(common_values_policy.union(common_values_endo))]"
   ]
  },
  {
   "cell_type": "code",
   "execution_count": 11,
   "id": "69ebe7ab-4bfb-439d-8eb8-5e71c747a2f4",
   "metadata": {},
   "outputs": [],
   "source": [
    "# Save matched data to a new Excel file with two sheets\n",
    "with pd.ExcelWriter('Matched_Data.xlsx') as writer:\n",
    "    matched_broker_data.to_excel(writer, sheet_name='Saiba_Dump', index=False)\n",
    "    matched_company_data.to_excel(writer, sheet_name='Lombard_Statement', index=False)\n",
    "\n",
    "# Drop the columns \"Matching_Index\", \"Matching_Attribute\" from the unmatched dataframes\n",
    "unmatched_broker_data = unmatched_broker_data.drop(columns=['Matching_Index', 'Matching_Attribute'])\n",
    "unmatched_company_data = unmatched_company_data.drop(columns=['Matching_Index', 'Matching_Attribute'])\n",
    "\n",
    "# Save unmatched data to a new Excel file with two sheets\n",
    "with pd.ExcelWriter('Unmatched_Data.xlsx') as writer:\n",
    "    unmatched_broker_data.to_excel(writer, sheet_name='Saiba_Dump', index=False)\n",
    "    unmatched_company_data.to_excel(writer, sheet_name='Lombard_Statement', index=False)"
   ]
  }
 ],
 "metadata": {
  "kernelspec": {
   "display_name": "Python 3 (ipykernel)",
   "language": "python",
   "name": "python3"
  },
  "language_info": {
   "codemirror_mode": {
    "name": "ipython",
    "version": 3
   },
   "file_extension": ".py",
   "mimetype": "text/x-python",
   "name": "python",
   "nbconvert_exporter": "python",
   "pygments_lexer": "ipython3",
   "version": "3.11.5"
  }
 },
 "nbformat": 4,
 "nbformat_minor": 5
}
